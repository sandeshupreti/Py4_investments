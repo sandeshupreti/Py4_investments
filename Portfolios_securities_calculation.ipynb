{
 "cells": [
  {
   "cell_type": "markdown",
   "metadata": {},
   "source": [
    "## How I calculated portfolio securities using python"
   ]
  },
  {
   "cell_type": "code",
<<<<<<< HEAD
   "execution_count": null,
=======
   "execution_count": 1,
>>>>>>> improvement
   "metadata": {},
   "outputs": [],
   "source": [
    "import numpy as np\n",
    "import pandas as pd\n",
    "from pandas_datareader import data as wb\n",
    "import matplotlib.pyplot as plt"
   ]
  },
  {
   "cell_type": "code",
<<<<<<< HEAD
   "execution_count": null,
=======
   "execution_count": 2,
>>>>>>> improvement
   "metadata": {},
   "outputs": [],
   "source": [
    "tickers= ['FB', 'NFLX', 'GOOGL']\n",
    "mydata = pd.DataFrame()\n",
    "for t in tickers:\n",
    "    mydata[t] = wb.DataReader(t, data_source= 'yahoo', start = '2015-1-1')['Adj Close']"
   ]
  },
  {
   "cell_type": "markdown",
   "metadata": {},
   "source": [
    "Securitites Diversification"
   ]
  },
  {
   "cell_type": "code",
<<<<<<< HEAD
   "execution_count": null,
   "metadata": {},
   "outputs": [],
=======
   "execution_count": 3,
   "metadata": {},
   "outputs": [
    {
     "name": "stdout",
     "output_type": "stream",
     "text": [
      "<class 'pandas.core.frame.DataFrame'>\n",
      "DatetimeIndex: 1016 entries, 2015-01-02 to 2019-01-15\n",
      "Data columns (total 3 columns):\n",
      "FB       1016 non-null float64\n",
      "NFLX     1016 non-null float64\n",
      "GOOGL    1016 non-null float64\n",
      "dtypes: float64(3)\n",
      "memory usage: 31.8 KB\n"
     ]
    }
   ],
>>>>>>> improvement
   "source": [
    "\n",
    "mydata.info()"
   ]
  },
  {
   "cell_type": "code",
<<<<<<< HEAD
   "execution_count": null,
   "metadata": {},
   "outputs": [],
=======
   "execution_count": 4,
   "metadata": {},
   "outputs": [
    {
     "data": {
      "text/html": [
       "<div>\n",
       "<style scoped>\n",
       "    .dataframe tbody tr th:only-of-type {\n",
       "        vertical-align: middle;\n",
       "    }\n",
       "\n",
       "    .dataframe tbody tr th {\n",
       "        vertical-align: top;\n",
       "    }\n",
       "\n",
       "    .dataframe thead th {\n",
       "        text-align: right;\n",
       "    }\n",
       "</style>\n",
       "<table border=\"1\" class=\"dataframe\">\n",
       "  <thead>\n",
       "    <tr style=\"text-align: right;\">\n",
       "      <th></th>\n",
       "      <th>FB</th>\n",
       "      <th>NFLX</th>\n",
       "      <th>GOOGL</th>\n",
       "    </tr>\n",
       "    <tr>\n",
       "      <th>Date</th>\n",
       "      <th></th>\n",
       "      <th></th>\n",
       "      <th></th>\n",
       "    </tr>\n",
       "  </thead>\n",
       "  <tbody>\n",
       "    <tr>\n",
       "      <th>2015-01-02</th>\n",
       "      <td>78.449997</td>\n",
       "      <td>49.848572</td>\n",
       "      <td>529.549988</td>\n",
       "    </tr>\n",
       "    <tr>\n",
       "      <th>2015-01-05</th>\n",
       "      <td>77.190002</td>\n",
       "      <td>47.311428</td>\n",
       "      <td>519.460022</td>\n",
       "    </tr>\n",
       "    <tr>\n",
       "      <th>2015-01-06</th>\n",
       "      <td>76.150002</td>\n",
       "      <td>46.501427</td>\n",
       "      <td>506.640015</td>\n",
       "    </tr>\n",
       "    <tr>\n",
       "      <th>2015-01-07</th>\n",
       "      <td>76.150002</td>\n",
       "      <td>46.742859</td>\n",
       "      <td>505.149994</td>\n",
       "    </tr>\n",
       "    <tr>\n",
       "      <th>2015-01-08</th>\n",
       "      <td>78.180000</td>\n",
       "      <td>47.779999</td>\n",
       "      <td>506.910004</td>\n",
       "    </tr>\n",
       "  </tbody>\n",
       "</table>\n",
       "</div>"
      ],
      "text/plain": [
       "                   FB       NFLX       GOOGL\n",
       "Date                                        \n",
       "2015-01-02  78.449997  49.848572  529.549988\n",
       "2015-01-05  77.190002  47.311428  519.460022\n",
       "2015-01-06  76.150002  46.501427  506.640015\n",
       "2015-01-07  76.150002  46.742859  505.149994\n",
       "2015-01-08  78.180000  47.779999  506.910004"
      ]
     },
     "execution_count": 4,
     "metadata": {},
     "output_type": "execute_result"
    }
   ],
>>>>>>> improvement
   "source": [
    "mydata.head()"
   ]
  },
  {
   "cell_type": "code",
<<<<<<< HEAD
   "execution_count": null,
   "metadata": {},
   "outputs": [],
=======
   "execution_count": 5,
   "metadata": {},
   "outputs": [
    {
     "data": {
      "text/html": [
       "<div>\n",
       "<style scoped>\n",
       "    .dataframe tbody tr th:only-of-type {\n",
       "        vertical-align: middle;\n",
       "    }\n",
       "\n",
       "    .dataframe tbody tr th {\n",
       "        vertical-align: top;\n",
       "    }\n",
       "\n",
       "    .dataframe thead th {\n",
       "        text-align: right;\n",
       "    }\n",
       "</style>\n",
       "<table border=\"1\" class=\"dataframe\">\n",
       "  <thead>\n",
       "    <tr style=\"text-align: right;\">\n",
       "      <th></th>\n",
       "      <th>FB</th>\n",
       "      <th>NFLX</th>\n",
       "      <th>GOOGL</th>\n",
       "    </tr>\n",
       "    <tr>\n",
       "      <th>Date</th>\n",
       "      <th></th>\n",
       "      <th></th>\n",
       "      <th></th>\n",
       "    </tr>\n",
       "  </thead>\n",
       "  <tbody>\n",
       "    <tr>\n",
       "      <th>2019-01-09</th>\n",
       "      <td>144.229996</td>\n",
       "      <td>319.959991</td>\n",
       "      <td>1081.650024</td>\n",
       "    </tr>\n",
       "    <tr>\n",
       "      <th>2019-01-10</th>\n",
       "      <td>144.199997</td>\n",
       "      <td>324.660004</td>\n",
       "      <td>1078.829956</td>\n",
       "    </tr>\n",
       "    <tr>\n",
       "      <th>2019-01-11</th>\n",
       "      <td>143.800003</td>\n",
       "      <td>337.589996</td>\n",
       "      <td>1064.469971</td>\n",
       "    </tr>\n",
       "    <tr>\n",
       "      <th>2019-01-14</th>\n",
       "      <td>145.389999</td>\n",
       "      <td>332.940002</td>\n",
       "      <td>1051.510010</td>\n",
       "    </tr>\n",
       "    <tr>\n",
       "      <th>2019-01-15</th>\n",
       "      <td>148.949997</td>\n",
       "      <td>354.640015</td>\n",
       "      <td>1086.510010</td>\n",
       "    </tr>\n",
       "  </tbody>\n",
       "</table>\n",
       "</div>"
      ],
      "text/plain": [
       "                    FB        NFLX        GOOGL\n",
       "Date                                           \n",
       "2019-01-09  144.229996  319.959991  1081.650024\n",
       "2019-01-10  144.199997  324.660004  1078.829956\n",
       "2019-01-11  143.800003  337.589996  1064.469971\n",
       "2019-01-14  145.389999  332.940002  1051.510010\n",
       "2019-01-15  148.949997  354.640015  1086.510010"
      ]
     },
     "execution_count": 5,
     "metadata": {},
     "output_type": "execute_result"
    }
   ],
>>>>>>> improvement
   "source": [
    "mydata.tail()"
   ]
  },
  {
   "cell_type": "code",
<<<<<<< HEAD
   "execution_count": null,
   "metadata": {},
   "outputs": [],
=======
   "execution_count": 6,
   "metadata": {},
   "outputs": [
    {
     "data": {
      "image/png": "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\n",
      "text/plain": [
       "<Figure size 1080x432 with 1 Axes>"
      ]
     },
     "metadata": {
      "needs_background": "light"
     },
     "output_type": "display_data"
    }
   ],
>>>>>>> improvement
   "source": [
    "mydata.plot(figsize=(15,6));\n",
    "plt.show()"
   ]
  },
  {
   "cell_type": "code",
   "execution_count": 7,
   "metadata": {},
   "outputs": [
    {
     "data": {
      "text/plain": [
       "FB        78.449997\n",
       "NFLX      49.848572\n",
       "GOOGL    529.549988\n",
       "Name: 2015-01-02 00:00:00, dtype: float64"
      ]
     },
     "execution_count": 7,
     "metadata": {},
     "output_type": "execute_result"
    }
   ],
   "source": [
    "mydata.iloc[0]"
   ]
  },
  {
   "cell_type": "code",
<<<<<<< HEAD
   "execution_count": null,
   "metadata": {},
   "outputs": [],
=======
   "execution_count": 8,
   "metadata": {},
   "outputs": [
    {
     "data": {
      "text/html": [
       "<div>\n",
       "<style scoped>\n",
       "    .dataframe tbody tr th:only-of-type {\n",
       "        vertical-align: middle;\n",
       "    }\n",
       "\n",
       "    .dataframe tbody tr th {\n",
       "        vertical-align: top;\n",
       "    }\n",
       "\n",
       "    .dataframe thead th {\n",
       "        text-align: right;\n",
       "    }\n",
       "</style>\n",
       "<table border=\"1\" class=\"dataframe\">\n",
       "  <thead>\n",
       "    <tr style=\"text-align: right;\">\n",
       "      <th></th>\n",
       "      <th>FB</th>\n",
       "      <th>NFLX</th>\n",
       "      <th>GOOGL</th>\n",
       "    </tr>\n",
       "    <tr>\n",
       "      <th>Date</th>\n",
       "      <th></th>\n",
       "      <th></th>\n",
       "      <th></th>\n",
       "    </tr>\n",
       "  </thead>\n",
       "  <tbody>\n",
       "    <tr>\n",
       "      <th>2015-01-02</th>\n",
       "      <td>NaN</td>\n",
       "      <td>NaN</td>\n",
       "      <td>NaN</td>\n",
       "    </tr>\n",
       "    <tr>\n",
       "      <th>2015-01-05</th>\n",
       "      <td>-0.016061</td>\n",
       "      <td>-0.050897</td>\n",
       "      <td>-0.019054</td>\n",
       "    </tr>\n",
       "    <tr>\n",
       "      <th>2015-01-06</th>\n",
       "      <td>-0.013473</td>\n",
       "      <td>-0.017121</td>\n",
       "      <td>-0.024679</td>\n",
       "    </tr>\n",
       "    <tr>\n",
       "      <th>2015-01-07</th>\n",
       "      <td>0.000000</td>\n",
       "      <td>0.005192</td>\n",
       "      <td>-0.002941</td>\n",
       "    </tr>\n",
       "    <tr>\n",
       "      <th>2015-01-08</th>\n",
       "      <td>0.026658</td>\n",
       "      <td>0.022188</td>\n",
       "      <td>0.003484</td>\n",
       "    </tr>\n",
       "  </tbody>\n",
       "</table>\n",
       "</div>"
      ],
      "text/plain": [
       "                  FB      NFLX     GOOGL\n",
       "Date                                    \n",
       "2015-01-02       NaN       NaN       NaN\n",
       "2015-01-05 -0.016061 -0.050897 -0.019054\n",
       "2015-01-06 -0.013473 -0.017121 -0.024679\n",
       "2015-01-07  0.000000  0.005192 -0.002941\n",
       "2015-01-08  0.026658  0.022188  0.003484"
      ]
     },
     "execution_count": 8,
     "metadata": {},
     "output_type": "execute_result"
    }
   ],
>>>>>>> improvement
   "source": [
    "returns = (mydata/mydata.shift(1))-1\n",
    "returns.head()"
   ]
  },
  {
   "cell_type": "code",
<<<<<<< HEAD
   "execution_count": null,
=======
   "execution_count": 9,
>>>>>>> improvement
   "metadata": {},
   "outputs": [],
   "source": [
    "weights = np.array([0.25,0.25,0.25])\n"
   ]
  },
  {
   "cell_type": "code",
<<<<<<< HEAD
   "execution_count": null,
   "metadata": {},
   "outputs": [],
=======
   "execution_count": 10,
   "metadata": {},
   "outputs": [
    {
     "data": {
      "text/plain": [
       "array([        nan, -0.021503  , -0.01381834, ...,  0.00593542,\n",
       "       -0.00372303,  0.03073706])"
      ]
     },
     "execution_count": 10,
     "metadata": {},
     "output_type": "execute_result"
    }
   ],
>>>>>>> improvement
   "source": [
    "np.dot(returns, weights)"
   ]
  },
  {
   "cell_type": "code",
<<<<<<< HEAD
   "execution_count": null,
   "metadata": {},
   "outputs": [],
=======
   "execution_count": 11,
   "metadata": {},
   "outputs": [
    {
     "data": {
      "text/plain": [
       "FB       0.198446\n",
       "NFLX     0.576388\n",
       "GOOGL    0.205206\n",
       "dtype: float64"
      ]
     },
     "execution_count": 11,
     "metadata": {},
     "output_type": "execute_result"
    }
   ],
>>>>>>> improvement
   "source": [
    "annual_returns = returns.mean()*250\n",
    "annual_returns"
   ]
  },
  {
   "cell_type": "code",
<<<<<<< HEAD
   "execution_count": null,
   "metadata": {},
   "outputs": [],
=======
   "execution_count": 12,
   "metadata": {},
   "outputs": [
    {
     "data": {
      "text/plain": [
       "0.2450100528072327"
      ]
     },
     "execution_count": 12,
     "metadata": {},
     "output_type": "execute_result"
    }
   ],
>>>>>>> improvement
   "source": [
    "np.dot(annual_returns,weights)"
   ]
  },
  {
   "cell_type": "code",
<<<<<<< HEAD
   "execution_count": null,
   "metadata": {},
   "outputs": [],
=======
   "execution_count": 13,
   "metadata": {},
   "outputs": [
    {
     "name": "stdout",
     "output_type": "stream",
     "text": [
      "24.501%\n"
     ]
    }
   ],
>>>>>>> improvement
   "source": [
    "pfolio_1= str (round(np.dot(annual_returns, weights), 5)*100) + '%'\n",
    "print pfolio_1"
   ]
  },
  {
   "cell_type": "code",
<<<<<<< HEAD
   "execution_count": null,
=======
   "execution_count": 14,
>>>>>>> improvement
   "metadata": {},
   "outputs": [],
   "source": [
    "weights_2 = np.array([0.15,0.70,0.15])\n"
   ]
  },
  {
   "cell_type": "code",
<<<<<<< HEAD
   "execution_count": null,
   "metadata": {},
   "outputs": [],
=======
   "execution_count": 15,
   "metadata": {},
   "outputs": [
    {
     "name": "stdout",
     "output_type": "stream",
     "text": [
      "46.402%\n"
     ]
    }
   ],
>>>>>>> improvement
   "source": [
    "pfolio_2 = str (round(np.dot(annual_returns, weights_2),5)*100) + '%'\n",
    "print pfolio_2"
   ]
  },
  {
   "cell_type": "code",
<<<<<<< HEAD
   "execution_count": null,
   "metadata": {},
   "outputs": [],
=======
   "execution_count": 16,
   "metadata": {},
   "outputs": [
    {
     "name": "stdout",
     "output_type": "stream",
     "text": [
      "24.501%\n",
      "46.402%\n"
     ]
    }
   ],
>>>>>>> improvement
   "source": [
    "print pfolio_1\n",
    "print pfolio_2\n"
   ]
  }
 ],
 "metadata": {
  "kernelspec": {
   "display_name": "Python 2",
   "language": "python",
   "name": "python2"
  },
  "language_info": {
   "codemirror_mode": {
    "name": "ipython",
    "version": 2
   },
   "file_extension": ".py",
   "mimetype": "text/x-python",
   "name": "python",
   "nbconvert_exporter": "python",
   "pygments_lexer": "ipython2",
   "version": "2.7.15"
  }
 },
 "nbformat": 4,
 "nbformat_minor": 2
}
